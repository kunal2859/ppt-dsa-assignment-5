{
 "cells": [
  {
   "cell_type": "code",
   "execution_count": 8,
   "id": "f6255258",
   "metadata": {},
   "outputs": [
    {
     "data": {
      "text/plain": [
       "[[1, 2], [3, 4]]"
      ]
     },
     "execution_count": 8,
     "metadata": {},
     "output_type": "execute_result"
    }
   ],
   "source": [
    "def array2D(original,m,n):\n",
    "    if m*n != len(original):\n",
    "        return []\n",
    "    res = []\n",
    "    for i in range(m):\n",
    "        matrix = []\n",
    "        for j in range(n):\n",
    "            matrix.append(original[i*n+j])\n",
    "        res.append(matrix)\n",
    "    return res\n",
    "\n",
    "original = [1,2,3,4] \n",
    "m = 2 \n",
    "n = 2\n",
    "array2D(original,m,n) "
   ]
  },
  {
   "cell_type": "code",
   "execution_count": 9,
   "id": "a4af7215",
   "metadata": {},
   "outputs": [
    {
     "data": {
      "text/plain": [
       "2"
      ]
     },
     "execution_count": 9,
     "metadata": {},
     "output_type": "execute_result"
    }
   ],
   "source": [
    "def stairsCount(n):\n",
    "    count = 0\n",
    "    rows = 0\n",
    "    if n == 1:\n",
    "        return 1\n",
    "    while count+(rows+1) <= n:\n",
    "        rows += 1\n",
    "        count = count + rows\n",
    "    return rows\n",
    "\n",
    "n=5\n",
    "stairsCount(n)"
   ]
  },
  {
   "cell_type": "code",
   "execution_count": 10,
   "id": "f5aaab0c",
   "metadata": {},
   "outputs": [
    {
     "name": "stdout",
     "output_type": "stream",
     "text": [
      "[0, 1, 9, 16, 100]\n"
     ]
    }
   ],
   "source": [
    "nums = [-4,-1,0,3,10]\n",
    "x=[]\n",
    "for i in nums:\n",
    "    x.append(i*i)\n",
    "x.sort()\n",
    "print(x)"
   ]
  },
  {
   "cell_type": "code",
   "execution_count": 11,
   "id": "c73e657b",
   "metadata": {},
   "outputs": [
    {
     "data": {
      "text/plain": [
       "[[1, 3], [4, 6]]"
      ]
     },
     "execution_count": 11,
     "metadata": {},
     "output_type": "execute_result"
    }
   ],
   "source": [
    "def findUnique(nums1,nums2):\n",
    "    n1=set(nums1)\n",
    "    n2=set(nums2)\n",
    "    r1=list(set(x for x in nums1 if x not in n2))\n",
    "    r2=list(set(x for x in nums2 if x not in n1))\n",
    "    return [r1,r2]\n",
    "\n",
    "nums1 = [1,2,3]\n",
    "nums2 = [2,4,6]\n",
    "findUnique(nums1,nums2)"
   ]
  },
  {
   "cell_type": "code",
   "execution_count": 14,
   "id": "048211b5",
   "metadata": {},
   "outputs": [
    {
     "data": {
      "text/plain": [
       "2"
      ]
     },
     "execution_count": 14,
     "metadata": {},
     "output_type": "execute_result"
    }
   ],
   "source": [
    "def distance(arr1,arr2,d):\n",
    "    arr2.sort()\n",
    "    dist = len(arr1)\n",
    "    for num in arr1:\n",
    "        start = 0\n",
    "        end = len(arr2) - 1\n",
    "        while start <= end:\n",
    "            mid = (start+end)//2\n",
    "            if abs(num- arr2[mid]) <= d:\n",
    "                dist -= 1\n",
    "                break\n",
    "            elif arr2[mid] > num :\n",
    "                end = mid-1\n",
    "            elif arr2[mid] < num :\n",
    "                start = mid+1\n",
    "    return dist\n",
    "\n",
    "arr1 = [4,5,8]\n",
    "arr2 = [10,9,1,8]\n",
    "d = 2\n",
    "distance(arr1,arr2,d)"
   ]
  },
  {
   "cell_type": "code",
   "execution_count": 16,
   "id": "149de8c9",
   "metadata": {},
   "outputs": [
    {
     "data": {
      "text/plain": [
       "[2, 3]"
      ]
     },
     "execution_count": 16,
     "metadata": {},
     "output_type": "execute_result"
    }
   ],
   "source": [
    "def duplicates(nums):\n",
    "    res = []\n",
    "    for i in range(len(nums)):\n",
    "        index = abs(nums[i])-1\n",
    "        if nums[index] < 0:\n",
    "            res.append(index+1)\n",
    "        else:\n",
    "            nums[index] = -nums[index]\n",
    "\n",
    "    return res\n",
    "\n",
    "nums = [4,3,2,7,8,2,3,1]\n",
    "duplicates(nums)"
   ]
  },
  {
   "cell_type": "code",
   "execution_count": 17,
   "id": "9db6d14a",
   "metadata": {},
   "outputs": [
    {
     "name": "stdout",
     "output_type": "stream",
     "text": [
      "1\n"
     ]
    }
   ],
   "source": [
    "def binarySearch(nums):\n",
    "    low=0\n",
    "    high=len(nums)-1\n",
    "    while low<high:\n",
    "        mid=(low+high)//2\n",
    "        if nums[mid]>nums[high]:\n",
    "            low=mid+1\n",
    "        else:\n",
    "            high=mid\n",
    "    return nums[low]\n",
    "                \n",
    "nums = [3,4,5,1,2]\n",
    "print(binarySearch(nums))"
   ]
  },
  {
   "cell_type": "code",
   "execution_count": 22,
   "id": "d0ff8cfe",
   "metadata": {},
   "outputs": [
    {
     "data": {
      "text/plain": [
       "[1, 3, 4]"
      ]
     },
     "execution_count": 22,
     "metadata": {},
     "output_type": "execute_result"
    }
   ],
   "source": [
    "from collections import Counter\n",
    "def originalArray(changed):\n",
    "    if len(changed) % 2 != 0:\n",
    "        return []\n",
    "    changed.sort(reverse = True)\n",
    "    c = Counter() \n",
    "    original = []\n",
    "    for i, num in enumerate(changed):\n",
    "        if num != 0:\n",
    "            if c[2 * num] > 0:\n",
    "                c[2 * num] -= 1\n",
    "                original.append(num)\n",
    "            elif num % 2 == 0:\n",
    "                c[num] += 1\n",
    "            else:\n",
    "                return []\n",
    "        else:\n",
    "            c[num] += 1\n",
    "\n",
    "    if c[0] % 2 == 0:\n",
    "        original += [0] * (c[0] // 2)\n",
    "        c[0] = 0\n",
    "    if all(count == 0 for count in c.values()):\n",
    "        return sorted(original) \n",
    "    else:\n",
    "        return []\n",
    "    \n",
    "changed = [1,3,4,2,6,8]\n",
    "originalArray(changed)"
   ]
  }
 ],
 "metadata": {
  "kernelspec": {
   "display_name": "Python 3 (ipykernel)",
   "language": "python",
   "name": "python3"
  },
  "language_info": {
   "codemirror_mode": {
    "name": "ipython",
    "version": 3
   },
   "file_extension": ".py",
   "mimetype": "text/x-python",
   "name": "python",
   "nbconvert_exporter": "python",
   "pygments_lexer": "ipython3",
   "version": "3.9.13"
  }
 },
 "nbformat": 4,
 "nbformat_minor": 5
}
